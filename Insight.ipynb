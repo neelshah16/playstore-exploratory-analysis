{
 "cells": [
  {
   "cell_type": "code",
   "execution_count": 1,
   "metadata": {},
   "outputs": [
    {
     "data": {
      "text/html": [
       "<script type=\"text/javascript\">window.PlotlyConfig = {MathJaxConfig: 'local'};</script><script type=\"text/javascript\">if (window.MathJax) {MathJax.Hub.Config({SVG: {font: \"STIX-Web\"}});}</script><script>requirejs.config({paths: { 'plotly': ['https://cdn.plot.ly/plotly-latest.min']},});if(!window._Plotly) {require(['plotly'],function(plotly) {window._Plotly=plotly;});}</script>"
      ],
      "text/vnd.plotly.v1+html": [
       "<script type=\"text/javascript\">window.PlotlyConfig = {MathJaxConfig: 'local'};</script><script type=\"text/javascript\">if (window.MathJax) {MathJax.Hub.Config({SVG: {font: \"STIX-Web\"}});}</script><script>requirejs.config({paths: { 'plotly': ['https://cdn.plot.ly/plotly-latest.min']},});if(!window._Plotly) {require(['plotly'],function(plotly) {window._Plotly=plotly;});}</script>"
      ]
     },
     "metadata": {},
     "output_type": "display_data"
    }
   ],
   "source": [
    "import numpy as np\n",
    "import pandas as pd\n",
    "\n",
    "import matplotlib.pyplot as plt\n",
    "import seaborn as sns\n",
    "import plotly\n",
    "plotly.offline.init_notebook_mode(connected=True)\n",
    "# connected=True means it will download the latest version of plotly javascript library.\n",
    "import plotly.graph_objs as go\n",
    "import plotly.figure_factory as ff\n",
    "import cufflinks as cf"
   ]
  },
  {
   "cell_type": "code",
   "execution_count": 2,
   "metadata": {},
   "outputs": [],
   "source": [
    "app = pd.read_csv('googleplaystore.csv')\n",
    "user = pd.read_csv('googleplaystore_user_reviews.csv')"
   ]
  },
  {
   "cell_type": "code",
   "execution_count": 3,
   "metadata": {},
   "outputs": [
    {
     "data": {
      "text/html": [
       "<div>\n",
       "<style scoped>\n",
       "    .dataframe tbody tr th:only-of-type {\n",
       "        vertical-align: middle;\n",
       "    }\n",
       "\n",
       "    .dataframe tbody tr th {\n",
       "        vertical-align: top;\n",
       "    }\n",
       "\n",
       "    .dataframe thead th {\n",
       "        text-align: right;\n",
       "    }\n",
       "</style>\n",
       "<table border=\"1\" class=\"dataframe\">\n",
       "  <thead>\n",
       "    <tr style=\"text-align: right;\">\n",
       "      <th></th>\n",
       "      <th>App</th>\n",
       "      <th>Category</th>\n",
       "      <th>Rating</th>\n",
       "      <th>Reviews</th>\n",
       "      <th>Size</th>\n",
       "      <th>Installs</th>\n",
       "      <th>Type</th>\n",
       "      <th>Price</th>\n",
       "      <th>Content Rating</th>\n",
       "      <th>Genres</th>\n",
       "      <th>Last Updated</th>\n",
       "      <th>Current Ver</th>\n",
       "      <th>Android Ver</th>\n",
       "    </tr>\n",
       "  </thead>\n",
       "  <tbody>\n",
       "    <tr>\n",
       "      <th>2679</th>\n",
       "      <td>Bukalapak - Buy and Sell Online</td>\n",
       "      <td>SHOPPING</td>\n",
       "      <td>4.4</td>\n",
       "      <td>662287</td>\n",
       "      <td>21M</td>\n",
       "      <td>10,000,000+</td>\n",
       "      <td>Free</td>\n",
       "      <td>0</td>\n",
       "      <td>Everyone</td>\n",
       "      <td>Shopping</td>\n",
       "      <td>August 3, 2018</td>\n",
       "      <td>4.26.7</td>\n",
       "      <td>4.1 and up</td>\n",
       "    </tr>\n",
       "    <tr>\n",
       "      <th>6057</th>\n",
       "      <td>Be My Love Animated Keyboard</td>\n",
       "      <td>PERSONALIZATION</td>\n",
       "      <td>4.6</td>\n",
       "      <td>838</td>\n",
       "      <td>11M</td>\n",
       "      <td>50,000+</td>\n",
       "      <td>Free</td>\n",
       "      <td>0</td>\n",
       "      <td>Teen</td>\n",
       "      <td>Personalization</td>\n",
       "      <td>March 30, 2018</td>\n",
       "      <td>1.70</td>\n",
       "      <td>4.1 and up</td>\n",
       "    </tr>\n",
       "    <tr>\n",
       "      <th>2464</th>\n",
       "      <td>VetCode</td>\n",
       "      <td>MEDICAL</td>\n",
       "      <td>4.9</td>\n",
       "      <td>28</td>\n",
       "      <td>5.7M</td>\n",
       "      <td>5,000+</td>\n",
       "      <td>Free</td>\n",
       "      <td>0</td>\n",
       "      <td>Everyone</td>\n",
       "      <td>Medical</td>\n",
       "      <td>July 7, 2018</td>\n",
       "      <td>1.0</td>\n",
       "      <td>4.4 and up</td>\n",
       "    </tr>\n",
       "    <tr>\n",
       "      <th>10554</th>\n",
       "      <td>PRO MX MOTOCROSS 2</td>\n",
       "      <td>GAME</td>\n",
       "      <td>3.8</td>\n",
       "      <td>25275</td>\n",
       "      <td>21M</td>\n",
       "      <td>5,000,000+</td>\n",
       "      <td>Free</td>\n",
       "      <td>0</td>\n",
       "      <td>Everyone</td>\n",
       "      <td>Racing</td>\n",
       "      <td>August 11, 2017</td>\n",
       "      <td>1.10</td>\n",
       "      <td>2.3 and up</td>\n",
       "    </tr>\n",
       "    <tr>\n",
       "      <th>7893</th>\n",
       "      <td>Abdominal CT Sectional Walker</td>\n",
       "      <td>MEDICAL</td>\n",
       "      <td>NaN</td>\n",
       "      <td>2</td>\n",
       "      <td>23M</td>\n",
       "      <td>100+</td>\n",
       "      <td>Paid</td>\n",
       "      <td>$9.99</td>\n",
       "      <td>Everyone</td>\n",
       "      <td>Medical</td>\n",
       "      <td>July 8, 2016</td>\n",
       "      <td>1.1</td>\n",
       "      <td>4.0 and up</td>\n",
       "    </tr>\n",
       "    <tr>\n",
       "      <th>4404</th>\n",
       "      <td>Fantastic Chefs: Match 'n Cook</td>\n",
       "      <td>FAMILY</td>\n",
       "      <td>4.7</td>\n",
       "      <td>8600</td>\n",
       "      <td>91M</td>\n",
       "      <td>500,000+</td>\n",
       "      <td>Free</td>\n",
       "      <td>0</td>\n",
       "      <td>Everyone</td>\n",
       "      <td>Puzzle</td>\n",
       "      <td>July 27, 2018</td>\n",
       "      <td>1.0.7</td>\n",
       "      <td>4.0.3 and up</td>\n",
       "    </tr>\n",
       "    <tr>\n",
       "      <th>10744</th>\n",
       "      <td>FP Markets</td>\n",
       "      <td>FINANCE</td>\n",
       "      <td>NaN</td>\n",
       "      <td>1</td>\n",
       "      <td>2.0M</td>\n",
       "      <td>100+</td>\n",
       "      <td>Free</td>\n",
       "      <td>0</td>\n",
       "      <td>Everyone</td>\n",
       "      <td>Finance</td>\n",
       "      <td>January 30, 2018</td>\n",
       "      <td>1.0.0.0</td>\n",
       "      <td>4.3 and up</td>\n",
       "    </tr>\n",
       "    <tr>\n",
       "      <th>2044</th>\n",
       "      <td>Garden Fruit Legend</td>\n",
       "      <td>FAMILY</td>\n",
       "      <td>4.6</td>\n",
       "      <td>4289</td>\n",
       "      <td>33M</td>\n",
       "      <td>500,000+</td>\n",
       "      <td>Free</td>\n",
       "      <td>0</td>\n",
       "      <td>Everyone</td>\n",
       "      <td>Casual;Brain Games</td>\n",
       "      <td>July 31, 2018</td>\n",
       "      <td>3.5.3183</td>\n",
       "      <td>4.0.3 and up</td>\n",
       "    </tr>\n",
       "    <tr>\n",
       "      <th>7497</th>\n",
       "      <td>CL Mobile Pro - Classifieds for Craigslist</td>\n",
       "      <td>SHOPPING</td>\n",
       "      <td>4.1</td>\n",
       "      <td>1288</td>\n",
       "      <td>18M</td>\n",
       "      <td>100,000+</td>\n",
       "      <td>Free</td>\n",
       "      <td>0</td>\n",
       "      <td>Mature 17+</td>\n",
       "      <td>Shopping</td>\n",
       "      <td>July 9, 2018</td>\n",
       "      <td>48</td>\n",
       "      <td>4.1 and up</td>\n",
       "    </tr>\n",
       "    <tr>\n",
       "      <th>8147</th>\n",
       "      <td>Hlášenírozhlasu.cz</td>\n",
       "      <td>COMMUNICATION</td>\n",
       "      <td>NaN</td>\n",
       "      <td>0</td>\n",
       "      <td>17M</td>\n",
       "      <td>10+</td>\n",
       "      <td>Free</td>\n",
       "      <td>0</td>\n",
       "      <td>Everyone</td>\n",
       "      <td>Communication</td>\n",
       "      <td>July 27, 2018</td>\n",
       "      <td>2.1.3</td>\n",
       "      <td>4.1 and up</td>\n",
       "    </tr>\n",
       "  </tbody>\n",
       "</table>\n",
       "</div>"
      ],
      "text/plain": [
       "                                              App         Category  Rating  \\\n",
       "2679              Bukalapak - Buy and Sell Online         SHOPPING     4.4   \n",
       "6057                 Be My Love Animated Keyboard  PERSONALIZATION     4.6   \n",
       "2464                                      VetCode          MEDICAL     4.9   \n",
       "10554                          PRO MX MOTOCROSS 2             GAME     3.8   \n",
       "7893                Abdominal CT Sectional Walker          MEDICAL     NaN   \n",
       "4404               Fantastic Chefs: Match 'n Cook           FAMILY     4.7   \n",
       "10744                                  FP Markets          FINANCE     NaN   \n",
       "2044                          Garden Fruit Legend           FAMILY     4.6   \n",
       "7497   CL Mobile Pro - Classifieds for Craigslist         SHOPPING     4.1   \n",
       "8147                           Hlášenírozhlasu.cz    COMMUNICATION     NaN   \n",
       "\n",
       "      Reviews  Size     Installs  Type  Price Content Rating  \\\n",
       "2679   662287   21M  10,000,000+  Free      0       Everyone   \n",
       "6057      838   11M      50,000+  Free      0           Teen   \n",
       "2464       28  5.7M       5,000+  Free      0       Everyone   \n",
       "10554   25275   21M   5,000,000+  Free      0       Everyone   \n",
       "7893        2   23M         100+  Paid  $9.99       Everyone   \n",
       "4404     8600   91M     500,000+  Free      0       Everyone   \n",
       "10744       1  2.0M         100+  Free      0       Everyone   \n",
       "2044     4289   33M     500,000+  Free      0       Everyone   \n",
       "7497     1288   18M     100,000+  Free      0     Mature 17+   \n",
       "8147        0   17M          10+  Free      0       Everyone   \n",
       "\n",
       "                   Genres      Last Updated Current Ver   Android Ver  \n",
       "2679             Shopping    August 3, 2018      4.26.7    4.1 and up  \n",
       "6057      Personalization    March 30, 2018        1.70    4.1 and up  \n",
       "2464              Medical      July 7, 2018         1.0    4.4 and up  \n",
       "10554              Racing   August 11, 2017        1.10    2.3 and up  \n",
       "7893              Medical      July 8, 2016         1.1    4.0 and up  \n",
       "4404               Puzzle     July 27, 2018       1.0.7  4.0.3 and up  \n",
       "10744             Finance  January 30, 2018     1.0.0.0    4.3 and up  \n",
       "2044   Casual;Brain Games     July 31, 2018    3.5.3183  4.0.3 and up  \n",
       "7497             Shopping      July 9, 2018          48    4.1 and up  \n",
       "8147        Communication     July 27, 2018       2.1.3    4.1 and up  "
      ]
     },
     "execution_count": 3,
     "metadata": {},
     "output_type": "execute_result"
    }
   ],
   "source": [
    "app.sample(10)"
   ]
  },
  {
   "cell_type": "code",
   "execution_count": 4,
   "metadata": {},
   "outputs": [
    {
     "name": "stdout",
     "output_type": "stream",
     "text": [
      "<class 'pandas.core.frame.DataFrame'>\n",
      "RangeIndex: 10841 entries, 0 to 10840\n",
      "Data columns (total 13 columns):\n",
      "App               10841 non-null object\n",
      "Category          10841 non-null object\n",
      "Rating            9367 non-null float64\n",
      "Reviews           10841 non-null object\n",
      "Size              10841 non-null object\n",
      "Installs          10841 non-null object\n",
      "Type              10840 non-null object\n",
      "Price             10841 non-null object\n",
      "Content Rating    10840 non-null object\n",
      "Genres            10841 non-null object\n",
      "Last Updated      10841 non-null object\n",
      "Current Ver       10833 non-null object\n",
      "Android Ver       10838 non-null object\n",
      "dtypes: float64(1), object(12)\n",
      "memory usage: 1.1+ MB\n"
     ]
    }
   ],
   "source": [
    "app.info()"
   ]
  },
  {
   "cell_type": "code",
   "execution_count": 5,
   "metadata": {},
   "outputs": [
    {
     "data": {
      "text/plain": [
       "Rating            1474\n",
       "Type                 1\n",
       "Content Rating       1\n",
       "Current Ver          8\n",
       "Android Ver          3\n",
       "dtype: int64"
      ]
     },
     "execution_count": 5,
     "metadata": {},
     "output_type": "execute_result"
    }
   ],
   "source": [
    "# Apps that have null values\n",
    "app.shape[0] - app.count()[app.count() < app.shape[0]]"
   ]
  },
  {
   "cell_type": "code",
   "execution_count": 6,
   "metadata": {},
   "outputs": [
    {
     "data": {
      "text/plain": [
       "Series([], dtype: int64)"
      ]
     },
     "execution_count": 6,
     "metadata": {},
     "output_type": "execute_result"
    }
   ],
   "source": [
    "# Dropna and dublicates\n",
    "app.drop_duplicates('App', inplace=True)\n",
    "app['Rating'].fillna(0, inplace=True)\n",
    "app.dropna(axis=0, inplace=True)\n",
    "\n",
    "app.shape[0] - app.count()[app.count() < app.shape[0]]"
   ]
  },
  {
   "cell_type": "markdown",
   "metadata": {},
   "source": [
    "## Cleaning Data\n",
    "\n",
    "* remove unit in size and make it number.\n",
    "* remove '+' in Installs\n",
    "* readable date format in Last Updated.\n",
    "* make version readable.\n",
    "* make android version readable."
   ]
  },
  {
   "cell_type": "code",
   "execution_count": 7,
   "metadata": {},
   "outputs": [],
   "source": [
    "app['Size'][app['Size'] != 'Varies with device'] = app['Size'][app['Size'] != 'Varies with device'].apply(\n",
    "    lambda x: float(x[:-1]) if x[-1] == 'M' else float(x[:-1])/1000 if x[-1] == 'k' else x\n",
    ")"
   ]
  },
  {
   "cell_type": "code",
   "execution_count": 8,
   "metadata": {},
   "outputs": [],
   "source": [
    "app['Installs'] = app['Installs'].apply(\n",
    "    lambda x: float(x[:-1].replace(',', '')) if x[-1] == '+' else x\n",
    ")"
   ]
  },
  {
   "cell_type": "code",
   "execution_count": 9,
   "metadata": {},
   "outputs": [],
   "source": [
    "app['Android Ver'][app['Android Ver'] != 'Varies with device'] = app['Android Ver'][app['Android Ver'] != 'Varies with device'].apply(\n",
    "    lambda x: float(str(x)[0:3])\n",
    ")"
   ]
  },
  {
   "cell_type": "code",
   "execution_count": 10,
   "metadata": {},
   "outputs": [],
   "source": [
    "app['Price'] = app['Price'].apply(\n",
    "    lambda x: float(x.replace('$', ''))\n",
    ")"
   ]
  },
  {
   "cell_type": "code",
   "execution_count": 11,
   "metadata": {},
   "outputs": [],
   "source": [
    "app['Reviews'] = app['Reviews'].apply(\n",
    "    lambda x: float(x.replace('$', ''))\n",
    ")"
   ]
  },
  {
   "cell_type": "code",
   "execution_count": 12,
   "metadata": {},
   "outputs": [
    {
     "data": {
      "text/plain": [
       "(9648, 13)"
      ]
     },
     "execution_count": 12,
     "metadata": {},
     "output_type": "execute_result"
    }
   ],
   "source": [
    "app.shape"
   ]
  },
  {
   "cell_type": "code",
   "execution_count": 13,
   "metadata": {},
   "outputs": [
    {
     "data": {
      "text/html": [
       "<div>\n",
       "<style scoped>\n",
       "    .dataframe tbody tr th:only-of-type {\n",
       "        vertical-align: middle;\n",
       "    }\n",
       "\n",
       "    .dataframe tbody tr th {\n",
       "        vertical-align: top;\n",
       "    }\n",
       "\n",
       "    .dataframe thead th {\n",
       "        text-align: right;\n",
       "    }\n",
       "</style>\n",
       "<table border=\"1\" class=\"dataframe\">\n",
       "  <thead>\n",
       "    <tr style=\"text-align: right;\">\n",
       "      <th></th>\n",
       "      <th>Rating</th>\n",
       "      <th>Reviews</th>\n",
       "      <th>Installs</th>\n",
       "      <th>Price</th>\n",
       "    </tr>\n",
       "  </thead>\n",
       "  <tbody>\n",
       "    <tr>\n",
       "      <th>Rating</th>\n",
       "      <td>1.000000</td>\n",
       "      <td>0.064678</td>\n",
       "      <td>0.070539</td>\n",
       "      <td>-0.014394</td>\n",
       "    </tr>\n",
       "    <tr>\n",
       "      <th>Reviews</th>\n",
       "      <td>0.064678</td>\n",
       "      <td>1.000000</td>\n",
       "      <td>0.625158</td>\n",
       "      <td>-0.007604</td>\n",
       "    </tr>\n",
       "    <tr>\n",
       "      <th>Installs</th>\n",
       "      <td>0.070539</td>\n",
       "      <td>0.625158</td>\n",
       "      <td>1.000000</td>\n",
       "      <td>-0.009413</td>\n",
       "    </tr>\n",
       "    <tr>\n",
       "      <th>Price</th>\n",
       "      <td>-0.014394</td>\n",
       "      <td>-0.007604</td>\n",
       "      <td>-0.009413</td>\n",
       "      <td>1.000000</td>\n",
       "    </tr>\n",
       "  </tbody>\n",
       "</table>\n",
       "</div>"
      ],
      "text/plain": [
       "            Rating   Reviews  Installs     Price\n",
       "Rating    1.000000  0.064678  0.070539 -0.014394\n",
       "Reviews   0.064678  1.000000  0.625158 -0.007604\n",
       "Installs  0.070539  0.625158  1.000000 -0.009413\n",
       "Price    -0.014394 -0.007604 -0.009413  1.000000"
      ]
     },
     "execution_count": 13,
     "metadata": {},
     "output_type": "execute_result"
    }
   ],
   "source": [
    "app.corr()"
   ]
  },
  {
   "cell_type": "code",
   "execution_count": 14,
   "metadata": {},
   "outputs": [
    {
     "data": {
      "text/html": [
       "<div>\n",
       "<style scoped>\n",
       "    .dataframe tbody tr th:only-of-type {\n",
       "        vertical-align: middle;\n",
       "    }\n",
       "\n",
       "    .dataframe tbody tr th {\n",
       "        vertical-align: top;\n",
       "    }\n",
       "\n",
       "    .dataframe thead th {\n",
       "        text-align: right;\n",
       "    }\n",
       "</style>\n",
       "<table border=\"1\" class=\"dataframe\">\n",
       "  <thead>\n",
       "    <tr style=\"text-align: right;\">\n",
       "      <th></th>\n",
       "      <th>Rating</th>\n",
       "      <th>Reviews</th>\n",
       "      <th>Installs</th>\n",
       "      <th>Price</th>\n",
       "    </tr>\n",
       "  </thead>\n",
       "  <tbody>\n",
       "    <tr>\n",
       "      <th>count</th>\n",
       "      <td>9648.000000</td>\n",
       "      <td>9.648000e+03</td>\n",
       "      <td>9.648000e+03</td>\n",
       "      <td>9648.000000</td>\n",
       "    </tr>\n",
       "    <tr>\n",
       "      <th>mean</th>\n",
       "      <td>3.542651</td>\n",
       "      <td>2.168369e+05</td>\n",
       "      <td>7.786211e+06</td>\n",
       "      <td>1.100193</td>\n",
       "    </tr>\n",
       "    <tr>\n",
       "      <th>std</th>\n",
       "      <td>1.574478</td>\n",
       "      <td>1.832349e+06</td>\n",
       "      <td>5.378830e+07</td>\n",
       "      <td>16.861727</td>\n",
       "    </tr>\n",
       "    <tr>\n",
       "      <th>min</th>\n",
       "      <td>0.000000</td>\n",
       "      <td>0.000000e+00</td>\n",
       "      <td>0.000000e+00</td>\n",
       "      <td>0.000000</td>\n",
       "    </tr>\n",
       "    <tr>\n",
       "      <th>25%</th>\n",
       "      <td>3.600000</td>\n",
       "      <td>2.500000e+01</td>\n",
       "      <td>1.000000e+03</td>\n",
       "      <td>0.000000</td>\n",
       "    </tr>\n",
       "    <tr>\n",
       "      <th>50%</th>\n",
       "      <td>4.200000</td>\n",
       "      <td>9.690000e+02</td>\n",
       "      <td>1.000000e+05</td>\n",
       "      <td>0.000000</td>\n",
       "    </tr>\n",
       "    <tr>\n",
       "      <th>75%</th>\n",
       "      <td>4.500000</td>\n",
       "      <td>2.944925e+04</td>\n",
       "      <td>1.000000e+06</td>\n",
       "      <td>0.000000</td>\n",
       "    </tr>\n",
       "    <tr>\n",
       "      <th>max</th>\n",
       "      <td>5.000000</td>\n",
       "      <td>7.815831e+07</td>\n",
       "      <td>1.000000e+09</td>\n",
       "      <td>400.000000</td>\n",
       "    </tr>\n",
       "  </tbody>\n",
       "</table>\n",
       "</div>"
      ],
      "text/plain": [
       "            Rating       Reviews      Installs        Price\n",
       "count  9648.000000  9.648000e+03  9.648000e+03  9648.000000\n",
       "mean      3.542651  2.168369e+05  7.786211e+06     1.100193\n",
       "std       1.574478  1.832349e+06  5.378830e+07    16.861727\n",
       "min       0.000000  0.000000e+00  0.000000e+00     0.000000\n",
       "25%       3.600000  2.500000e+01  1.000000e+03     0.000000\n",
       "50%       4.200000  9.690000e+02  1.000000e+05     0.000000\n",
       "75%       4.500000  2.944925e+04  1.000000e+06     0.000000\n",
       "max       5.000000  7.815831e+07  1.000000e+09   400.000000"
      ]
     },
     "execution_count": 14,
     "metadata": {},
     "output_type": "execute_result"
    }
   ],
   "source": [
    "app.describe()"
   ]
  },
  {
   "cell_type": "code",
   "execution_count": 29,
   "metadata": {},
   "outputs": [
    {
     "data": {
      "text/plain": [
       "<matplotlib.axes._subplots.AxesSubplot at 0x122e38320>"
      ]
     },
     "execution_count": 29,
     "metadata": {},
     "output_type": "execute_result"
    },
    {
     "data": {
      "image/png": "[encoded data removed]",
      "text/plain": [
       "<Figure size 432x288 with 1 Axes>"
      ]
     },
     "metadata": {},
     "output_type": "display_data"
    }
   ],
   "source": [
    "app['Type'].value_counts().plot('pie')"
   ]
  },
  {
   "cell_type": "code",
   "execution_count": 16,
   "metadata": {},
   "outputs": [
    {
     "data": {
      "text/plain": [
       "1.000000e+06    1416\n",
       "1.000000e+05    1112\n",
       "1.000000e+04    1029\n",
       "1.000000e+07     937\n",
       "1.000000e+03     886\n",
       "1.000000e+02     709\n",
       "5.000000e+06     607\n",
       "5.000000e+05     504\n",
       "5.000000e+04     468\n",
       "5.000000e+03     467\n",
       "1.000000e+01     384\n",
       "5.000000e+02     328\n",
       "5.000000e+01     204\n",
       "5.000000e+07     202\n",
       "1.000000e+08     188\n",
       "5.000000e+00      82\n",
       "1.000000e+00      67\n",
       "5.000000e+08      24\n",
       "1.000000e+09      20\n",
       "0.000000e+00      14\n",
       "Name: Installs, dtype: int64"
      ]
     },
     "execution_count": 16,
     "metadata": {},
     "output_type": "execute_result"
    }
   ],
   "source": [
    "app['Installs'].value_counts()"
   ]
  },
  {
   "cell_type": "code",
   "execution_count": 17,
   "metadata": {},
   "outputs": [
    {
     "data": {
      "text/plain": [
       "<matplotlib.axes._subplots.AxesSubplot at 0x11eb44da0>"
      ]
     },
     "execution_count": 17,
     "metadata": {},
     "output_type": "execute_result"
    },
    {
     "data": {
      "image/png": "[encoded data removed]",
      "text/plain": [
       "<Figure size 1440x720 with 1 Axes>"
      ]
     },
     "metadata": {
      "needs_background": "light"
     },
     "output_type": "display_data"
    }
   ],
   "source": [
    "app['Genres'].value_counts()[:40].plot('bar', figsize=(20,10))"
   ]
  },
  {
   "cell_type": "code",
   "execution_count": 18,
   "metadata": {
    "scrolled": false
   },
   "outputs": [
    {
     "data": {
      "text/plain": [
       "<seaborn.axisgrid.PairGrid at 0x11eb44fd0>"
      ]
     },
     "execution_count": 18,
     "metadata": {},
     "output_type": "execute_result"
    },
    {
     "data": {
      "image/png": "[encoded data removed]",
      "text/plain": [
       "<Figure size 720x720 with 20 Axes>"
      ]
     },
     "metadata": {
      "needs_background": "light"
     },
     "output_type": "display_data"
    }
   ],
   "source": [
    "sns.pairplot(app)"
   ]
  },
  {
   "cell_type": "code",
   "execution_count": 19,
   "metadata": {},
   "outputs": [
    {
     "data": {
      "application/vnd.plotly.v1+json": {
       "config": {
        "linkText": "Export to plot.ly",
        "plotlyServerURL": "https://plot.ly",
        "showLink": false
       },
       "data": [
        {
         "orientation": "h",
         "type": "bar",
         "uid": "7783ebd2-05cc-4237-91fd-086cc1dc74a0",
         "x": [
          2680,
          2203,
          989,
          888,
          829,
          516,
          371,
          240,
          230,
          221,
          133,
          115,
          54,
          43,
          38,
          36,
          22,
          19,
          10,
          6,
          3,
          2
         ],
         "y": [
          4,
          4.1,
          "Varies with device",
          2.3,
          4.4,
          5,
          4.2,
          2.2,
          3,
          4.3,
          2.1,
          1.6,
          6,
          7,
          2,
          3.2,
          5.1,
          1.5,
          3.1,
          8,
          7.1,
          1
         ]
        }
       ],
       "layout": {}
      },
      "text/html": [
       "<div id=\"409371e9-23f4-4ce3-b655-7fa13b5f2ca8\" style=\"height: 525px; width: 100%;\" class=\"plotly-graph-div\"></div><script type=\"text/javascript\">require([\"plotly\"], function(Plotly) { window.PLOTLYENV=window.PLOTLYENV || {};window.PLOTLYENV.BASE_URL=\"https://plot.ly\";\n",
       "if (document.getElementById(\"409371e9-23f4-4ce3-b655-7fa13b5f2ca8\")) {\n",
       "    Plotly.newPlot(\"409371e9-23f4-4ce3-b655-7fa13b5f2ca8\", [{\"orientation\": \"h\", \"x\": [2680, 2203, 989, 888, 829, 516, 371, 240, 230, 221, 133, 115, 54, 43, 38, 36, 22, 19, 10, 6, 3, 2], \"y\": [4.0, 4.1, \"Varies with device\", 2.3, 4.4, 5.0, 4.2, 2.2, 3.0, 4.3, 2.1, 1.6, 6.0, 7.0, 2.0, 3.2, 5.1, 1.5, 3.1, 8.0, 7.1, 1.0], \"type\": \"bar\", \"uid\": \"94aaa8a7-da8f-4501-a0ae-4705073eda84\"}], {}, {\"showLink\": false, \"linkText\": \"Export to plot.ly\", \"plotlyServerURL\": \"https://plot.ly\"}); \n",
       "}\n",
       "});</script><script type=\"text/javascript\">window.addEventListener(\"resize\", function(){if (document.getElementById(\"409371e9-23f4-4ce3-b655-7fa13b5f2ca8\")) {window._Plotly.Plots.resize(document.getElementById(\"409371e9-23f4-4ce3-b655-7fa13b5f2ca8\"));};})</script>"
      ],
      "text/vnd.plotly.v1+html": [
       "<div id=\"409371e9-23f4-4ce3-b655-7fa13b5f2ca8\" style=\"height: 525px; width: 100%;\" class=\"plotly-graph-div\"></div><script type=\"text/javascript\">require([\"plotly\"], function(Plotly) { window.PLOTLYENV=window.PLOTLYENV || {};window.PLOTLYENV.BASE_URL=\"https://plot.ly\";\n",
       "if (document.getElementById(\"409371e9-23f4-4ce3-b655-7fa13b5f2ca8\")) {\n",
       "    Plotly.newPlot(\"409371e9-23f4-4ce3-b655-7fa13b5f2ca8\", [{\"orientation\": \"h\", \"x\": [2680, 2203, 989, 888, 829, 516, 371, 240, 230, 221, 133, 115, 54, 43, 38, 36, 22, 19, 10, 6, 3, 2], \"y\": [4.0, 4.1, \"Varies with device\", 2.3, 4.4, 5.0, 4.2, 2.2, 3.0, 4.3, 2.1, 1.6, 6.0, 7.0, 2.0, 3.2, 5.1, 1.5, 3.1, 8.0, 7.1, 1.0], \"type\": \"bar\", \"uid\": \"94aaa8a7-da8f-4501-a0ae-4705073eda84\"}], {}, {\"showLink\": false, \"linkText\": \"Export to plot.ly\", \"plotlyServerURL\": \"https://plot.ly\"}); \n",
       "}\n",
       "});</script><script type=\"text/javascript\">window.addEventListener(\"resize\", function(){if (document.getElementById(\"409371e9-23f4-4ce3-b655-7fa13b5f2ca8\")) {window._Plotly.Plots.resize(document.getElementById(\"409371e9-23f4-4ce3-b655-7fa13b5f2ca8\"));};})</script>"
      ]
     },
     "metadata": {},
     "output_type": "display_data"
    }
   ],
   "source": [
    "apptype = app['Android Ver'].value_counts()\n",
    "\n",
    "plotly.offline.iplot([\n",
    "    go.Bar(\n",
    "        y = apptype.index,\n",
    "        x = apptype.values,\n",
    "        orientation = 'h'\n",
    "    )\n",
    "], filename='basic_pie_chart')"
   ]
  },
  {
   "cell_type": "code",
   "execution_count": 20,
   "metadata": {},
   "outputs": [],
   "source": [
    "# plotly.offline.iplot([\n",
    "#     go.Scatter(\n",
    "#         x = app['Rating'],\n",
    "#         y = app['Reviews'],\n",
    "#         mode = 'markers',\n",
    "#         marker = dict(\n",
    "#             size = app['Price']*0.05 + 10\n",
    "#         )\n",
    "#     )\n",
    "# ])"
   ]
  },
  {
   "cell_type": "code",
   "execution_count": 21,
   "metadata": {},
   "outputs": [
    {
     "data": {
      "text/html": [
       "<div>\n",
       "<style scoped>\n",
       "    .dataframe tbody tr th:only-of-type {\n",
       "        vertical-align: middle;\n",
       "    }\n",
       "\n",
       "    .dataframe tbody tr th {\n",
       "        vertical-align: top;\n",
       "    }\n",
       "\n",
       "    .dataframe thead th {\n",
       "        text-align: right;\n",
       "    }\n",
       "</style>\n",
       "<table border=\"1\" class=\"dataframe\">\n",
       "  <thead>\n",
       "    <tr style=\"text-align: right;\">\n",
       "      <th></th>\n",
       "      <th>App</th>\n",
       "      <th>Translated_Review</th>\n",
       "      <th>Sentiment</th>\n",
       "      <th>Sentiment_Polarity</th>\n",
       "      <th>Sentiment_Subjectivity</th>\n",
       "    </tr>\n",
       "  </thead>\n",
       "  <tbody>\n",
       "    <tr>\n",
       "      <th>11662</th>\n",
       "      <td>Baby Tiger Care - My Cute Virtual Pet Friend</td>\n",
       "      <td>NaN</td>\n",
       "      <td>NaN</td>\n",
       "      <td>NaN</td>\n",
       "      <td>NaN</td>\n",
       "    </tr>\n",
       "    <tr>\n",
       "      <th>61768</th>\n",
       "      <td>High-Powered Flashlight</td>\n",
       "      <td>I love</td>\n",
       "      <td>Positive</td>\n",
       "      <td>0.500000</td>\n",
       "      <td>0.600000</td>\n",
       "    </tr>\n",
       "    <tr>\n",
       "      <th>32035</th>\n",
       "      <td>DEER HUNTER 2018</td>\n",
       "      <td>NaN</td>\n",
       "      <td>NaN</td>\n",
       "      <td>NaN</td>\n",
       "      <td>NaN</td>\n",
       "    </tr>\n",
       "    <tr>\n",
       "      <th>60564</th>\n",
       "      <td>Health and Nutrition Guide</td>\n",
       "      <td>Wonderful works great</td>\n",
       "      <td>Positive</td>\n",
       "      <td>0.900000</td>\n",
       "      <td>0.875000</td>\n",
       "    </tr>\n",
       "    <tr>\n",
       "      <th>13822</th>\n",
       "      <td>BeautyPlus - Easy Photo Editor &amp; Selfie Camera</td>\n",
       "      <td>NaN</td>\n",
       "      <td>NaN</td>\n",
       "      <td>NaN</td>\n",
       "      <td>NaN</td>\n",
       "    </tr>\n",
       "    <tr>\n",
       "      <th>24011</th>\n",
       "      <td>Canva: Poster, banner, card maker &amp; graphic de...</td>\n",
       "      <td>Exactly I looking create beautiful flyers, pos...</td>\n",
       "      <td>Positive</td>\n",
       "      <td>0.472222</td>\n",
       "      <td>0.622222</td>\n",
       "    </tr>\n",
       "    <tr>\n",
       "      <th>61994</th>\n",
       "      <td>Hill Climb Racing</td>\n",
       "      <td>NaN</td>\n",
       "      <td>NaN</td>\n",
       "      <td>NaN</td>\n",
       "      <td>NaN</td>\n",
       "    </tr>\n",
       "    <tr>\n",
       "      <th>12369</th>\n",
       "      <td>Banjo</td>\n",
       "      <td>Mixed feelings I mixed feelings app. On hand w...</td>\n",
       "      <td>Positive</td>\n",
       "      <td>0.216667</td>\n",
       "      <td>0.531481</td>\n",
       "    </tr>\n",
       "    <tr>\n",
       "      <th>60491</th>\n",
       "      <td>Headspace: Meditation &amp; Mindfulness</td>\n",
       "      <td>NaN</td>\n",
       "      <td>NaN</td>\n",
       "      <td>NaN</td>\n",
       "      <td>NaN</td>\n",
       "    </tr>\n",
       "    <tr>\n",
       "      <th>17662</th>\n",
       "      <td>Brightest Flashlight - LED Light</td>\n",
       "      <td>NaN</td>\n",
       "      <td>NaN</td>\n",
       "      <td>NaN</td>\n",
       "      <td>NaN</td>\n",
       "    </tr>\n",
       "  </tbody>\n",
       "</table>\n",
       "</div>"
      ],
      "text/plain": [
       "                                                     App  \\\n",
       "11662       Baby Tiger Care - My Cute Virtual Pet Friend   \n",
       "61768                            High-Powered Flashlight   \n",
       "32035                                   DEER HUNTER 2018   \n",
       "60564                         Health and Nutrition Guide   \n",
       "13822     BeautyPlus - Easy Photo Editor & Selfie Camera   \n",
       "24011  Canva: Poster, banner, card maker & graphic de...   \n",
       "61994                                  Hill Climb Racing   \n",
       "12369                                              Banjo   \n",
       "60491                Headspace: Meditation & Mindfulness   \n",
       "17662                   Brightest Flashlight - LED Light   \n",
       "\n",
       "                                       Translated_Review Sentiment  \\\n",
       "11662                                                NaN       NaN   \n",
       "61768                                             I love  Positive   \n",
       "32035                                                NaN       NaN   \n",
       "60564                              Wonderful works great  Positive   \n",
       "13822                                                NaN       NaN   \n",
       "24011  Exactly I looking create beautiful flyers, pos...  Positive   \n",
       "61994                                                NaN       NaN   \n",
       "12369  Mixed feelings I mixed feelings app. On hand w...  Positive   \n",
       "60491                                                NaN       NaN   \n",
       "17662                                                NaN       NaN   \n",
       "\n",
       "       Sentiment_Polarity  Sentiment_Subjectivity  \n",
       "11662                 NaN                     NaN  \n",
       "61768            0.500000                0.600000  \n",
       "32035                 NaN                     NaN  \n",
       "60564            0.900000                0.875000  \n",
       "13822                 NaN                     NaN  \n",
       "24011            0.472222                0.622222  \n",
       "61994                 NaN                     NaN  \n",
       "12369            0.216667                0.531481  \n",
       "60491                 NaN                     NaN  \n",
       "17662                 NaN                     NaN  "
      ]
     },
     "execution_count": 21,
     "metadata": {},
     "output_type": "execute_result"
    }
   ],
   "source": [
    "user.sample(10)"
   ]
  },
  {
   "cell_type": "code",
   "execution_count": 22,
   "metadata": {},
   "outputs": [
    {
     "data": {
      "text/plain": [
       "App                       64295\n",
       "Translated_Review         37427\n",
       "Sentiment                 37432\n",
       "Sentiment_Polarity        37432\n",
       "Sentiment_Subjectivity    37432\n",
       "dtype: int64"
      ]
     },
     "execution_count": 22,
     "metadata": {},
     "output_type": "execute_result"
    }
   ],
   "source": [
    "user.count()"
   ]
  },
  {
   "cell_type": "code",
   "execution_count": 23,
   "metadata": {},
   "outputs": [],
   "source": [
    "# remove all the empty onse\n",
    "user.dropna(inplace=True)"
   ]
  },
  {
   "cell_type": "code",
   "execution_count": 24,
   "metadata": {},
   "outputs": [],
   "source": [
    "app_review = user.groupby('App').agg({\n",
    "    'Sentiment_Polarity': 'mean',\n",
    "    'Sentiment_Subjectivity': 'mean'\n",
    "})"
   ]
  },
  {
   "cell_type": "code",
   "execution_count": 25,
   "metadata": {},
   "outputs": [
    {
     "data": {
      "text/html": [
       "<div>\n",
       "<style scoped>\n",
       "    .dataframe tbody tr th:only-of-type {\n",
       "        vertical-align: middle;\n",
       "    }\n",
       "\n",
       "    .dataframe tbody tr th {\n",
       "        vertical-align: top;\n",
       "    }\n",
       "\n",
       "    .dataframe thead th {\n",
       "        text-align: right;\n",
       "    }\n",
       "</style>\n",
       "<table border=\"1\" class=\"dataframe\">\n",
       "  <thead>\n",
       "    <tr style=\"text-align: right;\">\n",
       "      <th></th>\n",
       "      <th>Sentiment_Polarity</th>\n",
       "      <th>Sentiment_Subjectivity</th>\n",
       "    </tr>\n",
       "    <tr>\n",
       "      <th>App</th>\n",
       "      <th></th>\n",
       "      <th></th>\n",
       "    </tr>\n",
       "  </thead>\n",
       "  <tbody>\n",
       "    <tr>\n",
       "      <th>Cougar Dating Life : Date Older Women Sugar Mummy</th>\n",
       "      <td>0.324570</td>\n",
       "      <td>0.588513</td>\n",
       "    </tr>\n",
       "    <tr>\n",
       "      <th>Buienradar - weer</th>\n",
       "      <td>0.086789</td>\n",
       "      <td>0.488779</td>\n",
       "    </tr>\n",
       "    <tr>\n",
       "      <th>Firefox Browser fast &amp; private</th>\n",
       "      <td>0.110142</td>\n",
       "      <td>0.518786</td>\n",
       "    </tr>\n",
       "    <tr>\n",
       "      <th>A+ Mobile</th>\n",
       "      <td>0.329592</td>\n",
       "      <td>0.522708</td>\n",
       "    </tr>\n",
       "    <tr>\n",
       "      <th>BetterMe: Weight Loss Workouts</th>\n",
       "      <td>0.292275</td>\n",
       "      <td>0.498256</td>\n",
       "    </tr>\n",
       "  </tbody>\n",
       "</table>\n",
       "</div>"
      ],
      "text/plain": [
       "                                                   Sentiment_Polarity  \\\n",
       "App                                                                     \n",
       "Cougar Dating Life : Date Older Women Sugar Mummy            0.324570   \n",
       "Buienradar - weer                                            0.086789   \n",
       "Firefox Browser fast & private                               0.110142   \n",
       "A+ Mobile                                                    0.329592   \n",
       "BetterMe: Weight Loss Workouts                               0.292275   \n",
       "\n",
       "                                                   Sentiment_Subjectivity  \n",
       "App                                                                        \n",
       "Cougar Dating Life : Date Older Women Sugar Mummy                0.588513  \n",
       "Buienradar - weer                                                0.488779  \n",
       "Firefox Browser fast & private                                   0.518786  \n",
       "A+ Mobile                                                        0.522708  \n",
       "BetterMe: Weight Loss Workouts                                   0.498256  "
      ]
     },
     "execution_count": 25,
     "metadata": {},
     "output_type": "execute_result"
    }
   ],
   "source": [
    "app_review.sample(5)"
   ]
  },
  {
   "cell_type": "code",
   "execution_count": 26,
   "metadata": {},
   "outputs": [],
   "source": [
    "app_full = app.join(app_review, on='App')"
   ]
  },
  {
   "cell_type": "code",
   "execution_count": 27,
   "metadata": {},
   "outputs": [
    {
     "data": {
      "text/html": [
       "<div>\n",
       "<style scoped>\n",
       "    .dataframe tbody tr th:only-of-type {\n",
       "        vertical-align: middle;\n",
       "    }\n",
       "\n",
       "    .dataframe tbody tr th {\n",
       "        vertical-align: top;\n",
       "    }\n",
       "\n",
       "    .dataframe thead th {\n",
       "        text-align: right;\n",
       "    }\n",
       "</style>\n",
       "<table border=\"1\" class=\"dataframe\">\n",
       "  <thead>\n",
       "    <tr style=\"text-align: right;\">\n",
       "      <th></th>\n",
       "      <th>App</th>\n",
       "      <th>Category</th>\n",
       "      <th>Rating</th>\n",
       "      <th>Reviews</th>\n",
       "      <th>Size</th>\n",
       "      <th>Installs</th>\n",
       "      <th>Type</th>\n",
       "      <th>Price</th>\n",
       "      <th>Content Rating</th>\n",
       "      <th>Genres</th>\n",
       "      <th>Last Updated</th>\n",
       "      <th>Current Ver</th>\n",
       "      <th>Android Ver</th>\n",
       "      <th>Sentiment_Polarity</th>\n",
       "      <th>Sentiment_Subjectivity</th>\n",
       "    </tr>\n",
       "  </thead>\n",
       "  <tbody>\n",
       "    <tr>\n",
       "      <th>3282</th>\n",
       "      <td>Alarm Clock Free</td>\n",
       "      <td>TOOLS</td>\n",
       "      <td>4.0</td>\n",
       "      <td>59973.0</td>\n",
       "      <td>11</td>\n",
       "      <td>10000000.0</td>\n",
       "      <td>Free</td>\n",
       "      <td>0.00</td>\n",
       "      <td>Everyone</td>\n",
       "      <td>Tools</td>\n",
       "      <td>March 16, 2018</td>\n",
       "      <td>1.2.5</td>\n",
       "      <td>4</td>\n",
       "      <td>0.155762</td>\n",
       "      <td>0.35684</td>\n",
       "    </tr>\n",
       "    <tr>\n",
       "      <th>4159</th>\n",
       "      <td>Wrestling Revolution 3D</td>\n",
       "      <td>SPORTS</td>\n",
       "      <td>4.3</td>\n",
       "      <td>989344.0</td>\n",
       "      <td>51</td>\n",
       "      <td>50000000.0</td>\n",
       "      <td>Free</td>\n",
       "      <td>0.00</td>\n",
       "      <td>Teen</td>\n",
       "      <td>Sports</td>\n",
       "      <td>July 23, 2018</td>\n",
       "      <td>1.640</td>\n",
       "      <td>4</td>\n",
       "      <td>NaN</td>\n",
       "      <td>NaN</td>\n",
       "    </tr>\n",
       "    <tr>\n",
       "      <th>7648</th>\n",
       "      <td>Chinese Chess ( Xiangqi Free )</td>\n",
       "      <td>GAME</td>\n",
       "      <td>4.6</td>\n",
       "      <td>963.0</td>\n",
       "      <td>4.1</td>\n",
       "      <td>50000.0</td>\n",
       "      <td>Free</td>\n",
       "      <td>0.00</td>\n",
       "      <td>Everyone</td>\n",
       "      <td>Board</td>\n",
       "      <td>April 18, 2017</td>\n",
       "      <td>1.1.1</td>\n",
       "      <td>2.3</td>\n",
       "      <td>NaN</td>\n",
       "      <td>NaN</td>\n",
       "    </tr>\n",
       "    <tr>\n",
       "      <th>10054</th>\n",
       "      <td>Aurum Blade EX</td>\n",
       "      <td>FAMILY</td>\n",
       "      <td>4.3</td>\n",
       "      <td>28151.0</td>\n",
       "      <td>17</td>\n",
       "      <td>1000000.0</td>\n",
       "      <td>Free</td>\n",
       "      <td>0.00</td>\n",
       "      <td>Everyone 10+</td>\n",
       "      <td>Role Playing</td>\n",
       "      <td>June 4, 2015</td>\n",
       "      <td>1.0.2</td>\n",
       "      <td>2.2</td>\n",
       "      <td>NaN</td>\n",
       "      <td>NaN</td>\n",
       "    </tr>\n",
       "    <tr>\n",
       "      <th>6379</th>\n",
       "      <td>Hungry Girl Diet Bk. Companion</td>\n",
       "      <td>HEALTH_AND_FITNESS</td>\n",
       "      <td>2.2</td>\n",
       "      <td>4.0</td>\n",
       "      <td>28</td>\n",
       "      <td>1000.0</td>\n",
       "      <td>Free</td>\n",
       "      <td>0.00</td>\n",
       "      <td>Everyone</td>\n",
       "      <td>Health &amp; Fitness</td>\n",
       "      <td>February 1, 2018</td>\n",
       "      <td>1.1.3</td>\n",
       "      <td>4</td>\n",
       "      <td>NaN</td>\n",
       "      <td>NaN</td>\n",
       "    </tr>\n",
       "    <tr>\n",
       "      <th>4806</th>\n",
       "      <td>Gangster Town</td>\n",
       "      <td>GAME</td>\n",
       "      <td>4.1</td>\n",
       "      <td>74842.0</td>\n",
       "      <td>99</td>\n",
       "      <td>5000000.0</td>\n",
       "      <td>Free</td>\n",
       "      <td>0.00</td>\n",
       "      <td>Teen</td>\n",
       "      <td>Action</td>\n",
       "      <td>December 22, 2016</td>\n",
       "      <td>1.7</td>\n",
       "      <td>2.3</td>\n",
       "      <td>NaN</td>\n",
       "      <td>NaN</td>\n",
       "    </tr>\n",
       "    <tr>\n",
       "      <th>4271</th>\n",
       "      <td>J-Stars Victory VS Guide</td>\n",
       "      <td>GAME</td>\n",
       "      <td>4.1</td>\n",
       "      <td>609.0</td>\n",
       "      <td>13</td>\n",
       "      <td>10000.0</td>\n",
       "      <td>Free</td>\n",
       "      <td>0.00</td>\n",
       "      <td>Everyone</td>\n",
       "      <td>Action</td>\n",
       "      <td>May 14, 2014</td>\n",
       "      <td>1.7</td>\n",
       "      <td>2.2</td>\n",
       "      <td>NaN</td>\n",
       "      <td>NaN</td>\n",
       "    </tr>\n",
       "    <tr>\n",
       "      <th>9155</th>\n",
       "      <td>EA Plus</td>\n",
       "      <td>TRAVEL_AND_LOCAL</td>\n",
       "      <td>2.5</td>\n",
       "      <td>12.0</td>\n",
       "      <td>12</td>\n",
       "      <td>1000.0</td>\n",
       "      <td>Free</td>\n",
       "      <td>0.00</td>\n",
       "      <td>Everyone</td>\n",
       "      <td>Travel &amp; Local</td>\n",
       "      <td>November 3, 2017</td>\n",
       "      <td>1.4</td>\n",
       "      <td>4</td>\n",
       "      <td>NaN</td>\n",
       "      <td>NaN</td>\n",
       "    </tr>\n",
       "    <tr>\n",
       "      <th>9478</th>\n",
       "      <td>Farming Simulator 16</td>\n",
       "      <td>FAMILY</td>\n",
       "      <td>4.2</td>\n",
       "      <td>32812.0</td>\n",
       "      <td>14</td>\n",
       "      <td>500000.0</td>\n",
       "      <td>Paid</td>\n",
       "      <td>2.99</td>\n",
       "      <td>Everyone</td>\n",
       "      <td>Simulation;Education</td>\n",
       "      <td>April 10, 2018</td>\n",
       "      <td>1.1.1.6</td>\n",
       "      <td>4</td>\n",
       "      <td>NaN</td>\n",
       "      <td>NaN</td>\n",
       "    </tr>\n",
       "    <tr>\n",
       "      <th>6676</th>\n",
       "      <td>Carros Rebaixados BR</td>\n",
       "      <td>GAME</td>\n",
       "      <td>4.3</td>\n",
       "      <td>20691.0</td>\n",
       "      <td>89</td>\n",
       "      <td>1000000.0</td>\n",
       "      <td>Free</td>\n",
       "      <td>0.00</td>\n",
       "      <td>Everyone</td>\n",
       "      <td>Racing</td>\n",
       "      <td>July 31, 2018</td>\n",
       "      <td>5.7.1</td>\n",
       "      <td>4.4</td>\n",
       "      <td>NaN</td>\n",
       "      <td>NaN</td>\n",
       "    </tr>\n",
       "  </tbody>\n",
       "</table>\n",
       "</div>"
      ],
      "text/plain": [
       "                                  App            Category  Rating   Reviews  \\\n",
       "3282                 Alarm Clock Free               TOOLS     4.0   59973.0   \n",
       "4159          Wrestling Revolution 3D              SPORTS     4.3  989344.0   \n",
       "7648   Chinese Chess ( Xiangqi Free )                GAME     4.6     963.0   \n",
       "10054                  Aurum Blade EX              FAMILY     4.3   28151.0   \n",
       "6379   Hungry Girl Diet Bk. Companion  HEALTH_AND_FITNESS     2.2       4.0   \n",
       "4806                    Gangster Town                GAME     4.1   74842.0   \n",
       "4271         J-Stars Victory VS Guide                GAME     4.1     609.0   \n",
       "9155                          EA Plus    TRAVEL_AND_LOCAL     2.5      12.0   \n",
       "9478             Farming Simulator 16              FAMILY     4.2   32812.0   \n",
       "6676             Carros Rebaixados BR                GAME     4.3   20691.0   \n",
       "\n",
       "      Size    Installs  Type  Price Content Rating                Genres  \\\n",
       "3282    11  10000000.0  Free   0.00       Everyone                 Tools   \n",
       "4159    51  50000000.0  Free   0.00           Teen                Sports   \n",
       "7648   4.1     50000.0  Free   0.00       Everyone                 Board   \n",
       "10054   17   1000000.0  Free   0.00   Everyone 10+          Role Playing   \n",
       "6379    28      1000.0  Free   0.00       Everyone      Health & Fitness   \n",
       "4806    99   5000000.0  Free   0.00           Teen                Action   \n",
       "4271    13     10000.0  Free   0.00       Everyone                Action   \n",
       "9155    12      1000.0  Free   0.00       Everyone        Travel & Local   \n",
       "9478    14    500000.0  Paid   2.99       Everyone  Simulation;Education   \n",
       "6676    89   1000000.0  Free   0.00       Everyone                Racing   \n",
       "\n",
       "            Last Updated Current Ver Android Ver  Sentiment_Polarity  \\\n",
       "3282      March 16, 2018       1.2.5           4            0.155762   \n",
       "4159       July 23, 2018       1.640           4                 NaN   \n",
       "7648      April 18, 2017       1.1.1         2.3                 NaN   \n",
       "10054       June 4, 2015       1.0.2         2.2                 NaN   \n",
       "6379    February 1, 2018       1.1.3           4                 NaN   \n",
       "4806   December 22, 2016         1.7         2.3                 NaN   \n",
       "4271        May 14, 2014         1.7         2.2                 NaN   \n",
       "9155    November 3, 2017         1.4           4                 NaN   \n",
       "9478      April 10, 2018     1.1.1.6           4                 NaN   \n",
       "6676       July 31, 2018       5.7.1         4.4                 NaN   \n",
       "\n",
       "       Sentiment_Subjectivity  \n",
       "3282                  0.35684  \n",
       "4159                      NaN  \n",
       "7648                      NaN  \n",
       "10054                     NaN  \n",
       "6379                      NaN  \n",
       "4806                      NaN  \n",
       "4271                      NaN  \n",
       "9155                      NaN  \n",
       "9478                      NaN  \n",
       "6676                      NaN  "
      ]
     },
     "execution_count": 27,
     "metadata": {},
     "output_type": "execute_result"
    }
   ],
   "source": [
    "app_full.sample(10)"
   ]
  },
  {
   "cell_type": "code",
   "execution_count": 28,
   "metadata": {},
   "outputs": [
    {
     "data": {
      "text/plain": [
       "816"
      ]
     },
     "execution_count": 28,
     "metadata": {},
     "output_type": "execute_result"
    }
   ],
   "source": [
    "# very low match.\n",
    "app_full['Sentiment_Polarity'].count()"
   ]
  },
  {
   "cell_type": "code",
   "execution_count": null,
   "metadata": {},
   "outputs": [],
   "source": []
  },
  {
   "cell_type": "code",
   "execution_count": null,
   "metadata": {},
   "outputs": [],
   "source": []
  },
  {
   "cell_type": "code",
   "execution_count": null,
   "metadata": {},
   "outputs": [],
   "source": []
  },
  {
   "cell_type": "code",
   "execution_count": null,
   "metadata": {},
   "outputs": [],
   "source": []
  },
  {
   "cell_type": "code",
   "execution_count": null,
   "metadata": {},
   "outputs": [],
   "source": []
  }
 ],
 "metadata": {
  "kernelspec": {
   "display_name": "Python3 deeplearning ground",
   "language": "python",
   "name": "venv"
  },
  "language_info": {
   "codemirror_mode": {
    "name": "ipython",
    "version": 3
   },
   "file_extension": ".py",
   "mimetype": "text/x-python",
   "name": "python",
   "nbconvert_exporter": "python",
   "pygments_lexer": "ipython3",
   "version": "3.7.0"
  }
 },
 "nbformat": 4,
 "nbformat_minor": 2
}
